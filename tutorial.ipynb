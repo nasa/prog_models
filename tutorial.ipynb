{
 "metadata": {
  "language_info": {
   "codemirror_mode": {
    "name": "ipython",
    "version": 3
   },
   "file_extension": ".py",
   "mimetype": "text/x-python",
   "name": "python",
   "nbconvert_exporter": "python",
   "pygments_lexer": "ipython3",
   "version": "3.8.11"
  },
  "orig_nbformat": 2,
  "kernelspec": {
   "name": "python3",
   "display_name": "Python 3.8.11 64-bit"
  },
  "metadata": {
   "interpreter": {
    "hash": "c1e35f02e3a88578371dd5b5d88a204463a98b2d7cd5222657e170520db47be1"
   }
  },
  "interpreter": {
   "hash": "ff94885aa2d97705a9dae03869c2058fa855d1acd9df351499300343e2e591a2"
  }
 },
 "nbformat": 4,
 "nbformat_minor": 2,
 "cells": [
  {
   "cell_type": "markdown",
   "source": [
    "# Welcome to the Prognostics Model Library Tutorial"
   ],
   "metadata": {}
  },
  {
   "cell_type": "markdown",
   "source": [
    "The goal of this notebook is to instruct users on how to use and extend the NASA PCoE Python Prognostics Model Package. \n",
    "\n",
    "First some background. The Prognostics Model Package is a python package for the modeling and simulation of the evolution of state for physical components, with a focus on simulating specific events. When used for prognostics, these events are typically system failures, such as a winding failure on a motor or full discharge of a battery. \n",
    "\n",
    "A few definitions:\n",
    "* events: some state that can be predicted (e.g., system failure). An event has either occured or not. \n",
    "* event state: progress towards event occuring. Defined as a number where an event state of 0 indicates the event has occured and 1 indicates no progress towards the event (i.e., fully healthy operation for a failure event). For gradually occuring events (e.g., discharge) the number will progress from 1 to 0 as the event nears. In prognostics, event state is frequently called \"State of Health\"\n",
    "* inputs: control applied to the system being modeled (e.g., current drawn from a battery)\n",
    "* outputs: measured sensor values from a system (e.g., voltage and temperature of a battery)\n",
    "* states: Internal parameters (typically hidden states) used to represent the state of the system- can be same as inputs/outputs but do not have to be. \n",
    "* process noise: stochastic process representing uncertainty in the model transition. \n",
    "* measurement noise: stochastic process representing uncertainty in the measurement process; e.g., sensor sensitivity, sensor misalignements, environmental effects \n",
    "\n",
    "The `prog_models` package has the following structure\n",
    "* `prog_models.PrognosticsModel` - parent class for all prognostics models - defines interfaces that a model must implement, and tools for simulating said model \n",
    "* `prog_models.models.*` - implemented models (e.g., pump, valve, battery)\n",
    "\n",
    "In addition to the `prog_models` package, this repo includes examples showing how to use the package (see `examples/`), a template for implementing a new model (`prog_model_template`), documentation (`docs/`), and this tutorial (`tutorial.ipynb`).\n",
    "\n",
    "Before you start, make sure that prog_models is installed using the following command:\n",
    "\n",
    "`pip install prog_models`\n",
    "\n",
    "Now lets get started with some examples"
   ],
   "metadata": {}
  },
  {
   "cell_type": "markdown",
   "source": [
    "## Using the included models\n",
    "\n",
    "This first example is for using the included prognostics models. First thing to do is to import the model you would like to use:"
   ],
   "metadata": {}
  },
  {
   "cell_type": "code",
   "execution_count": null,
   "source": [
    "from prog_models.models import BatteryCircuit"
   ],
   "outputs": [],
   "metadata": {}
  },
  {
   "cell_type": "markdown",
   "source": [
    "This imports the battery_circuit model distributed with the `prog_models` package. \n",
    "\n",
    "Next, lets create a new battery using the default settings:"
   ],
   "metadata": {}
  },
  {
   "cell_type": "code",
   "execution_count": null,
   "source": [
    "batt = BatteryCircuit()"
   ],
   "outputs": [],
   "metadata": {}
  },
  {
   "cell_type": "markdown",
   "source": [
    "This creates a battery circuit model. You can also pass configuration parameters into the constructor as kwargs to configure the system, for example\n",
    "### <center>`BatteryCircuit(process_noise= 0)`</center>\n",
    "\n",
    "Alternatively, you can set the configuration of the system afterwards, like so:"
   ],
   "metadata": {}
  },
  {
   "cell_type": "code",
   "execution_count": null,
   "source": [
    "batt.parameters['process_noise'] = 0 # No process noise"
   ],
   "outputs": [],
   "metadata": {}
  },
  {
   "cell_type": "markdown",
   "source": [
    "Lets use the member properties to check out some details of the model, first the model configuration:"
   ],
   "metadata": {}
  },
  {
   "cell_type": "code",
   "execution_count": null,
   "source": [
    "print('configuration: ', batt.parameters)"
   ],
   "outputs": [],
   "metadata": {}
  },
  {
   "cell_type": "markdown",
   "source": [
    "You can also save or load your model configuration using pickle"
   ],
   "metadata": {}
  },
  {
   "cell_type": "code",
   "execution_count": null,
   "source": [
    "import pickle\n",
    "pickle.dump(batt.parameters, open('ex.pickle', 'wb'))"
   ],
   "outputs": [],
   "metadata": {}
  },
  {
   "cell_type": "markdown",
   "source": [
    "Then you can set your model configuration like below. This is useful for recording and restoring model configurations"
   ],
   "metadata": {}
  },
  {
   "cell_type": "code",
   "execution_count": null,
   "source": [
    "batt.parameters = pickle.load(open('ex.pickle', 'rb'))"
   ],
   "outputs": [],
   "metadata": {}
  },
  {
   "cell_type": "markdown",
   "source": [
    "Next the expected inputs (loading) and outputs (measurements)"
   ],
   "metadata": {}
  },
  {
   "cell_type": "code",
   "execution_count": null,
   "source": [
    "print('inputs: ', batt.inputs)\n",
    "print('outputs: ', batt.outputs)"
   ],
   "outputs": [],
   "metadata": {}
  },
  {
   "cell_type": "markdown",
   "source": [
    "Now lets look at what event we're predicting. This model only predicts one event, but that's not true for every model"
   ],
   "metadata": {}
  },
  {
   "cell_type": "code",
   "execution_count": null,
   "source": [
    "print('event(s): ', batt.events)"
   ],
   "outputs": [],
   "metadata": {}
  },
  {
   "cell_type": "markdown",
   "source": [
    "Finally, let's take a look at the internal states that the model uses to represent the system:"
   ],
   "metadata": {}
  },
  {
   "cell_type": "code",
   "execution_count": null,
   "source": [
    "print('states: ', batt.states)"
   ],
   "outputs": [],
   "metadata": {}
  },
  {
   "cell_type": "markdown",
   "source": [
    "All those checks were just to take a look at the properties of this model. Now let's work towards simulating. \n",
    "\n",
    "Next, we define future loading. This is a function that describes how the system will be loaded as a function of time. Here we're defining a basic peasewise function."
   ],
   "metadata": {}
  },
  {
   "cell_type": "code",
   "execution_count": null,
   "source": [
    "def future_loading(t, x=None):\n",
    "    # Variable (piece-wise) future loading scheme \n",
    "    if (t < 600):\n",
    "        i = 2\n",
    "    elif (t < 900):\n",
    "        i = 1\n",
    "    elif (t < 1800):\n",
    "        i = 4\n",
    "    elif (t < 3000):\n",
    "        i = 2\n",
    "    else:\n",
    "        i = 3\n",
    "    return {'i': i}"
   ],
   "outputs": [],
   "metadata": {}
  },
  {
   "cell_type": "code",
   "execution_count": null,
   "source": [],
   "outputs": [],
   "metadata": {}
  },
  {
   "cell_type": "markdown",
   "source": [
    "At last it's time to simulate. First we're going to simulate forward 200 seconds. To do this we have to define our first expected output (e.g., measurement) to initialize the model state. Then we're going to use the function simulate_to() to simulate to the specified time and print the results"
   ],
   "metadata": {}
  },
  {
   "cell_type": "code",
   "execution_count": null,
   "source": [
    "first_output = {'t': 18.95, 'v': 4.183} # temperature of 18.95, and voltage of 4.183\n",
    "time_to_simulate_to = 200\n",
    "sim_config = {\n",
    "    'save_freq': 20, \n",
    "    'print': True  # Print states - Note: is much faster without\n",
    "}\n",
    "(times, inputs, states, outputs, event_states) = batt.simulate_to(time_to_simulate_to, future_loading, first_output, **sim_config)"
   ]
  },
  {
   "cell_type": "markdown",
   "source": [
    "We can also plot the results"
   ],
   "metadata": {}
  },
  {
   "cell_type": "code",
   "execution_count": null,
   "source": [
    "event_states.plot(ylabel= 'SOC')\n",
    "outputs.plot(ylabel= {'v': \"voltage (V)\", 't': 'temperature (°C)'}, compact= False)\n"
   ]
  },
  {
   "cell_type": "markdown",
   "source": [
    "Instead of specifying a specific amount of time, we can also simulate until a threshold has been met using the simulate_to_threshold() method\n",
    "\n",
    "\n"
   ],
   "metadata": {}
  },
  {
   "cell_type": "code",
   "execution_count": null,
   "source": [
    "options = { #configuration for this sim\n",
    "    'save_freq': 100, # Frequency at which results are saved (s)\n",
    "    'horizon': 5000 # Maximum time to simulate (s) - This is a cutoff. The simulation will end at this time, or when a threshold has been met, whichever is first\n",
    "    }\n",
    "(times, inputs, states, outputs, event_states) = batt.simulate_to_threshold(future_loading, {'t': 18.95, 'v': 4.183}, **options)\n",
    "event_states.plot(ylabel='SOC')\n",
    "outputs.plot(ylabel= {'v': \"voltage (V)\", 't': 'temperature (°C)'}, compact= False)"
   ]
  },
  {
   "cell_type": "markdown",
   "source": [
    "Default is to simulate until any threshold is met, but we can also specify which event we are simulating to (any key from model.events) for multiple event models. "
   ],
   "metadata": {}
  },
  {
   "cell_type": "markdown",
   "source": [
    "## Building a new model using model generation\n",
    "The easiest way to build a new model is by using the model generation feature. This works for simple models.\n",
    "\n",
    "For this example, let's use a model of throwing an object directly into the air in a vacuum.\n",
    "\n",
    "First lets describe the model in a dictionary:"
   ],
   "metadata": {}
  },
  {
   "cell_type": "code",
   "execution_count": null,
   "source": [
    "keys = {\n",
    "    'inputs': [], # no inputs, no way to control\n",
    "    'states': [\n",
    "        'x', # Position (m) \n",
    "        'v'  # Velocity (m/s)\n",
    "    ],\n",
    "    'outputs': [ # Anything we can measure\n",
    "        'x' # Position (m)\n",
    "    ],\n",
    "    'events': [\n",
    "        'falling', # Event- object is falling\n",
    "        'impact' # Event- object has impacted the ground\n",
    "    ]\n",
    "}"
   ],
   "outputs": [],
   "metadata": {}
  },
  {
   "cell_type": "markdown",
   "source": [
    "Here we have a description of what we're going to try to model, including any inputs, states, outputs, and predicted events. Now we can start defining the details of the model logic.\n",
    "\n",
    "First, we're going to define the initialization function. This is used to generate the first state."
   ],
   "metadata": {}
  },
  {
   "cell_type": "code",
   "execution_count": null,
   "source": [
    "thrower_height = 1.83 # m\n",
    "throwing_speed = 40 # m/s\n",
    "def initialize(u, z):\n",
    "    return {\n",
    "        'x': thrower_height, # Thrown, so initial altitude is height of thrower\n",
    "        'v': throwing_speed # Velocity at which the ball is thrown - this guy is an professional baseball pitcher\n",
    "        }"
   ],
   "outputs": [],
   "metadata": {}
  },
  {
   "cell_type": "markdown",
   "source": [
    "Next, lets define the output equation- this translates from the state to any measurable parameters. In this case it's simple since we're saying the position ('x') state is directly measureable."
   ],
   "metadata": {}
  },
  {
   "cell_type": "code",
   "execution_count": null,
   "source": [
    "def output(x):\n",
    "    return {\n",
    "        'x': x['x']\n",
    "    }"
   ],
   "outputs": [],
   "metadata": {}
  },
  {
   "cell_type": "markdown",
   "source": [
    "Now, let's define the threshold_met and event_state equations. This defines when each event has occured, and how close you are to the event occuring, respectively. "
   ],
   "metadata": {}
  },
  {
   "cell_type": "code",
   "execution_count": null,
   "source": [
    "def threshold_met(x):\n",
    "    return {\n",
    "        'falling': x['v'] < 0,\n",
    "        'impact': x['x'] <= 0\n",
    "    }\n",
    "\n",
    "max_x = 0\n",
    "def event_state(x):  # Analogous to SOH for prognostic problems\n",
    "    max_x = max(max_x, x['x']) # Maximum altitude\n",
    "    return {\n",
    "        'falling': max(x['v']/throwing_speed,0), # Throwing speed is max speed\n",
    "        'impact': (x['v'] > 0) or max(x['x']/max_x,0) # 1 until falling begins, then it's fraction of height\n",
    "    }"
   ],
   "outputs": [],
   "metadata": {}
  },
  {
   "cell_type": "markdown",
   "source": [
    "Note: strictly speaking the threshold_met equation isn't needed here- the default behavior is that the threshold is met when event state reaches 0. We define it here, because this implementation is more efficient. \n",
    "\n",
    "Finally, we define the meat of the model. There are two types of models: continuous and discrete. Discrete models are defined by some sort of transition equation x' = next_state(x, u, dt) while continuous models can be defined by the first derivative dx = dx(x, u). This model is continuous, so we define the equation dx:"
   ],
   "metadata": {}
  },
  {
   "cell_type": "code",
   "execution_count": null,
   "source": [
    "def dx(x, u):\n",
    "    return {\n",
    "        'x': x['v'],\n",
    "        'v': -9.81 # Acceleration of gravity\n",
    "    }"
   ],
   "outputs": [],
   "metadata": {}
  },
  {
   "cell_type": "markdown",
   "source": [
    "Now we have all our pieces and can put it all together"
   ],
   "metadata": {}
  },
  {
   "cell_type": "code",
   "execution_count": null,
   "source": [
    "from prog_models import PrognosticsModel\n",
    "m = PrognosticsModel.generate_model(keys, initialize, output, event_state_eqn = event_state, threshold_eqn=threshold_met, dx_eqn=dx)"
   ],
   "outputs": [],
   "metadata": {}
  },
  {
   "cell_type": "markdown",
   "source": [
    "Now that we have our model `m` we can use it just like the model in our previous example. "
   ],
   "metadata": {}
  },
  {
   "cell_type": "code",
   "execution_count": null,
   "source": [
    "def future_load(t, x=None):\n",
    "        return {} # No loading\n",
    "event = 'impact'\n",
    "\n",
    "(times, inputs, states, outputs, event_states) = m.simulate_to_threshold(future_load, {'x':thrower_height}, threshold_keys=[event], dt=0.005, save_freq=1)\n",
    "\n",
    "event_states.plot(ylabel= ['falling', 'impact'], compact= False)\n",
    "states.plot(ylabel= {'x': \"position (m)\", 'v': 'velocity (m/s)'}, compact= False)"
   ]
  },
  {
   "cell_type": "markdown",
   "source": [
    "## Building a new model - advanced\n",
    "For more advanced models, you can create a seperate class to define the logic of the model. The functions are the same, just in a different format, and with added parameters. The model above could be defined using this approach like so:\n"
   ],
   "metadata": {}
  },
  {
   "cell_type": "code",
   "execution_count": null,
   "source": [
    "from prog_models import PrognosticsModel\n",
    "\n",
    "# Model used in example\n",
    "class ThrownObject(PrognosticsModel):\n",
    "    \"\"\"\n",
    "    Model that similates an object thrown into the air without air resistance\n",
    "    \"\"\"\n",
    "\n",
    "    inputs = [] # no inputs, no way to control\n",
    "    states = [\n",
    "        'x', # Position (m) \n",
    "        'v'  # Velocity (m/s)\n",
    "        ]\n",
    "    outputs = [ # Anything we can measure\n",
    "        'x' # Position (m)\n",
    "    ]\n",
    "    events = [\n",
    "        'falling', # Event- object is falling\n",
    "        'impact' # Event- object has impacted ground\n",
    "    ]\n",
    "\n",
    "    # The Default parameters. Overwritten by passing parameters dictionary into constructor\n",
    "    default_parameters = {\n",
    "        'thrower_height': 1.83, # m\n",
    "        'throwing_speed': 40, # m/s\n",
    "        'g': -9.81, # Acceleration due to gravity in m/s^2\n",
    "        'process_noise': 0.0, # amount of noise in each step\n",
    "        'measurement_noise': 0.0 # Noise added each call of output()\n",
    "    }\n",
    "\n",
    "    def initialize(self, u, z):\n",
    "        self.max_x = 0.0\n",
    "        return {\n",
    "            'x': self.parameters['thrower_height'], # Thrown, so initial altitude is height of thrower\n",
    "            'v': self.parameters['throwing_speed'] # Velocity at which the ball is thrown - this guy is an professional baseball pitcher\n",
    "            }\n",
    "    \n",
    "    def dx(self, x, u):\n",
    "        # apply_process_noise is used to add process noise to each step\n",
    "        return {\n",
    "            'x': x['v'],\n",
    "            'v': self.parameters['g'] # Acceleration of gravity\n",
    "        }\n",
    "\n",
    "    def output(self, x):\n",
    "        return {\n",
    "            'x': x['x']\n",
    "        }\n",
    "\n",
    "    # This is actually optional. Leaving thresholds_met empty will use the event state to define thresholds.\n",
    "    #  Threshold = Event State == 0. However, this implementation is more efficient, so we included it\n",
    "    def threshold_met(self, x):\n",
    "        return {\n",
    "            'falling': x['v'] < 0,\n",
    "            'impact': x['x'] <= 0\n",
    "        }\n",
    "\n",
    "    def event_state(self, x): \n",
    "        self.max_x = max(self.max_x, x['x']) # Maximum altitude\n",
    "        return {\n",
    "            'falling': max(x['v']/self.parameters['throwing_speed'],0), # Throwing speed is max speed\n",
    "            'impact': (x['v'] > 0) or max(x['x']/self.max_x,0) # 1 until falling begins, then it's fraction of height\n",
    "        }"
   ],
   "outputs": [],
   "metadata": {}
  },
  {
   "cell_type": "markdown",
   "source": [
    "Now the model can be generated and used like any of the other provided models"
   ],
   "metadata": {}
  },
  {
   "cell_type": "code",
   "execution_count": null,
   "source": [
    "m = ThrownObject()\n",
    "\n",
    "def future_load(t, x=None):\n",
    "        return {} # No loading\n",
    "event = 'impact'\n",
    "\n",
    "(times, inputs, states, outputs, event_states) = m.simulate_to_threshold(future_load, {'x':m.parameters['thrower_height']}, threshold_keys=[event], dt=0.005, save_freq=1)\n",
    "\n",
    "event_states.plot(ylabel= ['falling', 'impact'], compact= False)\n",
    "states.plot(ylabel= {'x': \"position (m)\", 'v': 'velocity (m/s)'}, compact= False)"
   ]
  },
  {
   "cell_type": "markdown",
   "source": [
    "Models can also include \"derived parameters\" (i.e., parameters that are derived from others). These can be set using the param_callbacks property. \n",
    "\n",
    "Let's extend the above model to include derived_parameters. Let's say that the throwing_speed was actually a function of thrower_height (i.e., a taller thrower would throw the ball faster). Here's how we would implement that"
   ],
   "metadata": {}
  },
  {
   "cell_type": "code",
   "execution_count": null,
   "source": [
    "# Step 1: Define a function for the relationship between thrower_height and throwing_speed.\n",
    "def update_thrown_speed(params):\n",
    "    return {\n",
    "        'throwing_speed': params['thrower_height'] * 21.85\n",
    "    }  # Assumes thrown_speed is linear function of height\n",
    "\n",
    "# Step 2: Define the param callbacks\n",
    "ThrownObject.param_callbacks = {\n",
    "        'thrower_height': [update_thrown_speed]\n",
    "    }  # Tell the derived callbacks feature to call this function when thrower_height changes."
   ],
   "outputs": [],
   "metadata": {}
  },
  {
   "cell_type": "markdown",
   "source": [
    "Note: Usually we would define this menthod within the class. For this example, we're doing it separately to improve readability. Here's the feature in action"
   ],
   "metadata": {}
  },
  {
   "cell_type": "code",
   "execution_count": null,
   "source": [
    "obj = ThrownObject()\n",
    "print(\"Default Settings:\\n\\tthrower_height: {}\\n\\tthowing_speed: {}\".format(obj.parameters['thrower_height'], obj.parameters['throwing_speed']))\n",
    "\n",
    "# Now let's change the thrower_height\n",
    "print(\"changing height...\")\n",
    "obj.parameters['thrower_height'] = 1.75  # Our thrower is 1.75 m tall\n",
    "print(\"\\nUpdated Settings:\\n\\tthrower_height: {}\\n\\tthowing_speed: {}\".format(obj.parameters['thrower_height'], obj.parameters['throwing_speed']))\n",
    "print(\"Notice how speed changed automatically with height\")\n",
    "\n",
    "# Let's delete the callback so we can use the same model in the future:\n",
    "ThrownObject.param_callbacks = {}"
   ],
   "outputs": [],
   "metadata": {}
  },
  {
   "cell_type": "markdown",
   "source": [
    "Note: State limits can be applied directly using the apply_limits function. For example:"
   ],
   "metadata": {}
  },
  {
   "cell_type": "code",
   "execution_count": null,
   "source": [
    "x = {'x': -5, 'v': 3e8} # Too fast and below the ground\n",
    "x = obj.apply_limits(x)\n",
    "print(x)"
   ],
   "outputs": [],
   "metadata": {}
  },
  {
   "cell_type": "markdown",
   "source": [
    "Notice how the state was limited according to the model state limits"
   ],
   "metadata": {}
  },
  {
   "cell_type": "markdown",
   "source": [
    "## Parameter Estimation\n",
    "Let's say we dont know the configuration of the above model. Instead, we have some data. We can use that data to estimate the parameters. \n",
    "\n",
    "First, we define the data:"
   ],
   "metadata": {}
  },
  {
   "cell_type": "code",
   "execution_count": null,
   "source": [
    "times = [0, 1, 2, 3, 4, 5, 6, 7, 8]\n",
    "inputs = [{}]*9\n",
    "outputs = [\n",
    "    {'x': 1.83},\n",
    "    {'x': 36.95},\n",
    "    {'x': 62.36},\n",
    "    {'x': 77.81},\n",
    "    {'x': 83.45},\n",
    "    {'x': 79.28},\n",
    "    {'x': 65.3},\n",
    "    {'x': 41.51},\n",
    "    {'x': 7.91},\n",
    "]"
   ],
   "outputs": [],
   "metadata": {}
  },
  {
   "cell_type": "markdown",
   "source": [
    "Next, we identify which parameters will be optimized"
   ],
   "metadata": {}
  },
  {
   "cell_type": "code",
   "execution_count": null,
   "source": [
    "keys = ['thrower_height', 'throwing_speed']"
   ],
   "outputs": [],
   "metadata": {}
  },
  {
   "cell_type": "markdown",
   "source": [
    "Let's say we have a first guess that the thrower's height is 20m, silly I know"
   ],
   "metadata": {}
  },
  {
   "cell_type": "code",
   "execution_count": null,
   "source": [
    "m.parameters['thrower_height'] = 20"
   ],
   "outputs": [],
   "metadata": {}
  },
  {
   "cell_type": "markdown",
   "source": [
    "Here's the state of our estimation with that assumption:"
   ],
   "metadata": {}
  },
  {
   "cell_type": "code",
   "execution_count": null,
   "source": [
    "print('Model configuration before')\n",
    "for key in keys:\n",
    "    print(\"-\", key, m.parameters[key])\n",
    "print(' Error: ', m.calc_error(times, inputs, outputs, dt=1e-4))"
   ],
   "outputs": [],
   "metadata": {}
  },
  {
   "cell_type": "markdown",
   "source": [
    "Wow, that's a large error. \n",
    "\n",
    "Let's run the parameter estimation to see if we can do better"
   ],
   "metadata": {}
  },
  {
   "cell_type": "code",
   "execution_count": null,
   "source": [
    "m.estimate_params([(times, inputs, outputs)], keys, dt=0.01)\n",
    "\n",
    "# Print result\n",
    "print('\\nOptimized configuration')\n",
    "for key in keys:\n",
    "    print(\"-\", key, m.parameters[key])\n",
    "print(' Error: ', m.calc_error(times, inputs, outputs, dt=1e-4))"
   ],
   "outputs": [],
   "metadata": {}
  },
  {
   "cell_type": "markdown",
   "source": [
    "Much better!\n",
    "\n",
    "Behind the scenes, this uses scipy minimize function."
   ],
   "metadata": {}
  },
  {
   "cell_type": "markdown",
   "source": [
    "## Conclusion\n",
    "Thank you for trying out this tutorial. See the examples in the `examples/` folder for more details on how to use the package. Any questions can be directed to Chris Teubert (christopher.a.teubert@nasa.gov)"
   ],
   "metadata": {}
  },
  {
   "cell_type": "code",
   "execution_count": null,
   "source": [],
   "outputs": [],
   "metadata": {}
  }
 ]
}